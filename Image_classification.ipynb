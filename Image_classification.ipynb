{
  "nbformat": 4,
  "nbformat_minor": 0,
  "metadata": {
    "colab": {
      "name": "Image_classification.ipynb",
      "provenance": [],
      "collapsed_sections": []
    },
    "kernelspec": {
      "name": "python3",
      "display_name": "Python 3"
    },
    "accelerator": "GPU"
  },
  "cells": [
    {
      "cell_type": "code",
      "metadata": {
        "id": "q62dq4-maZSw"
      },
      "source": [
        "import tensorflow as tf\r\n",
        "from tensorflow.keras import datasets, layers, models\r\n",
        "import matplotlib.pyplot as plt\r\n",
        "import numpy as np"
      ],
      "execution_count": null,
      "outputs": []
    },
    {
      "cell_type": "code",
      "metadata": {
        "id": "fyDb5HWbaoub"
      },
      "source": [
        "#Load the dataset"
      ],
      "execution_count": null,
      "outputs": []
    },
    {
      "cell_type": "code",
      "metadata": {
        "colab": {
          "base_uri": "https://localhost:8080/"
        },
        "id": "QxNXWUIEask0",
        "outputId": "b518f069-4539-4f49-af2f-2a38d624a3a3"
      },
      "source": [
        "(X_train, y_train), (X_test,y_test) = datasets.cifar10.load_data()\r\n"
      ],
      "execution_count": null,
      "outputs": [
        {
          "output_type": "stream",
          "text": [
            "Downloading data from https://www.cs.toronto.edu/~kriz/cifar-10-python.tar.gz\n",
            "170500096/170498071 [==============================] - 3s 0us/step\n"
          ],
          "name": "stdout"
        }
      ]
    },
    {
      "cell_type": "code",
      "metadata": {
        "colab": {
          "base_uri": "https://localhost:8080/"
        },
        "id": "tru0ES2pa4cr",
        "outputId": "9f9260ad-1e3d-4a60-bc14-7d26da79c938"
      },
      "source": [
        "X_train.shape"
      ],
      "execution_count": null,
      "outputs": [
        {
          "output_type": "execute_result",
          "data": {
            "text/plain": [
              "(50000, 32, 32, 3)"
            ]
          },
          "metadata": {
            "tags": []
          },
          "execution_count": 6
        }
      ]
    },
    {
      "cell_type": "code",
      "metadata": {
        "colab": {
          "base_uri": "https://localhost:8080/"
        },
        "id": "fuFXd86ObBzW",
        "outputId": "4db9f932-6f4c-45fa-dd63-1722310407f4"
      },
      "source": [
        "X_test.shape"
      ],
      "execution_count": null,
      "outputs": [
        {
          "output_type": "execute_result",
          "data": {
            "text/plain": [
              "(10000, 32, 32, 3)"
            ]
          },
          "metadata": {
            "tags": []
          },
          "execution_count": 7
        }
      ]
    },
    {
      "cell_type": "code",
      "metadata": {
        "colab": {
          "base_uri": "https://localhost:8080/"
        },
        "id": "frputnGsbI4E",
        "outputId": "bdc3065f-1670-4b34-a6ef-5d7843ba9c72"
      },
      "source": [
        "y_train[:5]"
      ],
      "execution_count": null,
      "outputs": [
        {
          "output_type": "execute_result",
          "data": {
            "text/plain": [
              "array([[6],\n",
              "       [9],\n",
              "       [9],\n",
              "       [4],\n",
              "       [1]], dtype=uint8)"
            ]
          },
          "metadata": {
            "tags": []
          },
          "execution_count": 8
        }
      ]
    },
    {
      "cell_type": "code",
      "metadata": {
        "id": "OKvDLriwbdAZ"
      },
      "source": [
        "#y_train is a 2D array, for our classification having 1D array is good enough. so we will convert this to  1D array"
      ],
      "execution_count": null,
      "outputs": []
    },
    {
      "cell_type": "code",
      "metadata": {
        "colab": {
          "base_uri": "https://localhost:8080/"
        },
        "id": "jwGETlzGb0lS",
        "outputId": "607b2b95-e7cd-46a6-8200-cec512541d93"
      },
      "source": [
        "y_train = y_train.reshape(-1,)\r\n",
        "y_train[:5]"
      ],
      "execution_count": null,
      "outputs": [
        {
          "output_type": "execute_result",
          "data": {
            "text/plain": [
              "array([6, 9, 9, 4, 1], dtype=uint8)"
            ]
          },
          "metadata": {
            "tags": []
          },
          "execution_count": 11
        }
      ]
    },
    {
      "cell_type": "code",
      "metadata": {
        "id": "K32k9PaLb6pL"
      },
      "source": [
        "y_test = y_test.reshape(-1,)\r\n"
      ],
      "execution_count": null,
      "outputs": []
    },
    {
      "cell_type": "code",
      "metadata": {
        "id": "s9jaGKoachQl"
      },
      "source": [
        "classes = [\"airplane\",\"automobile\",\"bird\",\"cat\",\"deer\",\"dog\",\"frog\",\"horse\",\"ship\",\"truck\"]\r\n"
      ],
      "execution_count": null,
      "outputs": []
    },
    {
      "cell_type": "code",
      "metadata": {
        "id": "sGY_yoxkckFX"
      },
      "source": [
        "def plot_sample(X, y, index):\r\n",
        "    plt.figure(figsize = (10,2))\r\n",
        "    plt.imshow(X[index])\r\n",
        "    plt.xlabel(classes[y[index]])"
      ],
      "execution_count": null,
      "outputs": []
    },
    {
      "cell_type": "code",
      "metadata": {
        "colab": {
          "base_uri": "https://localhost:8080/",
          "height": 173
        },
        "id": "xGp-fmqYc-Q0",
        "outputId": "956bbfc0-45a2-46a2-f5fb-ded566f86964"
      },
      "source": [
        "plot_sample(X_train,y_train,0)"
      ],
      "execution_count": null,
      "outputs": [
        {
          "output_type": "display_data",
          "data": {
            "image/png": "[encoded data removed]",
            "text/plain": [
              "<Figure size 720x144 with 1 Axes>"
            ]
          },
          "metadata": {
            "tags": [],
            "needs_background": "light"
          }
        }
      ]
    },
    {
      "cell_type": "code",
      "metadata": {
        "colab": {
          "base_uri": "https://localhost:8080/",
          "height": 173
        },
        "id": "RxQnNSYxdIKy",
        "outputId": "700901e1-2a32-46f2-ec04-ad7ba30f394f"
      },
      "source": [
        "plot_sample(X_train,y_train,9)"
      ],
      "execution_count": null,
      "outputs": [
        {
          "output_type": "display_data",
          "data": {
            "image/png": "[encoded data removed]",
            "text/plain": [
              "<Figure size 720x144 with 1 Axes>"
            ]
          },
          "metadata": {
            "tags": [],
            "needs_background": "light"
          }
        }
      ]
    },
    {
      "cell_type": "code",
      "metadata": {
        "id": "ObUbYyQhdT_6"
      },
      "source": [
        "#Normalizing the training data"
      ],
      "execution_count": null,
      "outputs": []
    },
    {
      "cell_type": "code",
      "metadata": {
        "id": "1xVb_QxsdgFD"
      },
      "source": [
        "X_train = X_train / 255.0\r\n",
        "X_test = X_test / 255.0"
      ],
      "execution_count": null,
      "outputs": []
    },
    {
      "cell_type": "code",
      "metadata": {
        "id": "teegG9q9diy5"
      },
      "source": [
        "#Build simple artificial neural network for image classification\r\n"
      ],
      "execution_count": null,
      "outputs": []
    },
    {
      "cell_type": "code",
      "metadata": {
        "colab": {
          "base_uri": "https://localhost:8080/"
        },
        "id": "lZeF9uU7d5Mo",
        "outputId": "20d3c333-7e8c-49fa-cfa5-d3357834dd7e"
      },
      "source": [
        "ann = models.Sequential([\r\n",
        "        layers.Flatten(input_shape=(32,32,3)),\r\n",
        "        layers.Dense(3000, activation='relu'),\r\n",
        "        layers.Dense(1000, activation='relu'),\r\n",
        "        layers.Dense(10, activation='sigmoid')    \r\n",
        "    ])\r\n",
        "\r\n",
        "ann.compile(optimizer='SGD',\r\n",
        "              loss='sparse_categorical_crossentropy',\r\n",
        "              metrics=['accuracy'])\r\n",
        "\r\n",
        "ann.fit(X_train, y_train, epochs=10)"
      ],
      "execution_count": null,
      "outputs": [
        {
          "output_type": "stream",
          "text": [
            "Epoch 1/10\n",
            "1563/1563 [==============================] - 6s 3ms/step - loss: 1.9406 - accuracy: 0.3016\n",
            "Epoch 2/10\n",
            "1563/1563 [==============================] - 4s 3ms/step - loss: 1.6475 - accuracy: 0.4216\n",
            "Epoch 3/10\n",
            "1563/1563 [==============================] - 4s 3ms/step - loss: 1.5545 - accuracy: 0.4502\n",
            "Epoch 4/10\n",
            "1563/1563 [==============================] - 4s 3ms/step - loss: 1.4922 - accuracy: 0.4778\n",
            "Epoch 5/10\n",
            "1563/1563 [==============================] - 4s 3ms/step - loss: 1.4333 - accuracy: 0.4956\n",
            "Epoch 6/10\n",
            "1563/1563 [==============================] - 4s 3ms/step - loss: 1.3866 - accuracy: 0.5151\n",
            "Epoch 7/10\n",
            "1563/1563 [==============================] - 4s 3ms/step - loss: 1.3557 - accuracy: 0.5231\n",
            "Epoch 8/10\n",
            "1563/1563 [==============================] - 4s 3ms/step - loss: 1.3107 - accuracy: 0.5373\n",
            "Epoch 9/10\n",
            "1563/1563 [==============================] - 4s 3ms/step - loss: 1.2875 - accuracy: 0.5480\n",
            "Epoch 10/10\n",
            "1563/1563 [==============================] - 4s 3ms/step - loss: 1.2531 - accuracy: 0.5600\n"
          ],
          "name": "stdout"
        },
        {
          "output_type": "execute_result",
          "data": {
            "text/plain": [
              "<tensorflow.python.keras.callbacks.History at 0x7fe2b00c5550>"
            ]
          },
          "metadata": {
            "tags": []
          },
          "execution_count": 22
        }
      ]
    },
    {
      "cell_type": "code",
      "metadata": {
        "colab": {
          "base_uri": "https://localhost:8080/"
        },
        "id": "0OdPxAVpe8UQ",
        "outputId": "c8ad0997-1ebf-4e6a-aa23-f965606ab9e5"
      },
      "source": [
        "from sklearn.metrics import confusion_matrix , classification_report\r\n",
        "import numpy as np\r\n",
        "y_pred = ann.predict(X_test)\r\n",
        "y_pred_classes = [np.argmax(element) for element in y_pred]\r\n",
        "\r\n",
        "print(\"Classification Report: \\n\", classification_report(y_test, y_pred_classes))"
      ],
      "execution_count": null,
      "outputs": [
        {
          "output_type": "stream",
          "text": [
            "Classification Report: \n",
            "               precision    recall  f1-score   support\n",
            "\n",
            "           0       0.63      0.55      0.58      1000\n",
            "           1       0.55      0.80      0.65      1000\n",
            "           2       0.32      0.62      0.42      1000\n",
            "           3       0.39      0.35      0.37      1000\n",
            "           4       0.40      0.51      0.45      1000\n",
            "           5       0.47      0.36      0.41      1000\n",
            "           6       0.64      0.47      0.54      1000\n",
            "           7       0.70      0.46      0.56      1000\n",
            "           8       0.72      0.56      0.63      1000\n",
            "           9       0.71      0.41      0.52      1000\n",
            "\n",
            "    accuracy                           0.51     10000\n",
            "   macro avg       0.55      0.51      0.51     10000\n",
            "weighted avg       0.55      0.51      0.51     10000\n",
            "\n"
          ],
          "name": "stdout"
        }
      ]
    },
    {
      "cell_type": "code",
      "metadata": {
        "id": "xKIlMY2dfwQ9"
      },
      "source": [
        ""
      ],
      "execution_count": null,
      "outputs": []
    },
    {
      "cell_type": "code",
      "metadata": {
        "id": "s4ofVQHXgBik"
      },
      "source": [
        "#Now let us build a convolutional neural network to train our images"
      ],
      "execution_count": null,
      "outputs": []
    },
    {
      "cell_type": "code",
      "metadata": {
        "id": "JNr6szgYgMk0"
      },
      "source": [
        "cnn = models.Sequential([\r\n",
        "    layers.Conv2D(filters=32, kernel_size=(3, 3), activation='relu', input_shape=(32, 32, 3)),\r\n",
        "    layers.MaxPooling2D((2, 2)),\r\n",
        "    \r\n",
        "    layers.Conv2D(filters=64, kernel_size=(3, 3), activation='relu'),\r\n",
        "    layers.MaxPooling2D((2, 2)),\r\n",
        "    \r\n",
        "    layers.Flatten(),\r\n",
        "    layers.Dense(64, activation='relu'),\r\n",
        "    layers.Dense(10, activation='softmax')\r\n",
        "])"
      ],
      "execution_count": null,
      "outputs": []
    },
    {
      "cell_type": "code",
      "metadata": {
        "id": "keYzHkDThcWi"
      },
      "source": [
        "cnn.compile(optimizer='adam',\r\n",
        "              loss='sparse_categorical_crossentropy',\r\n",
        "              metrics=['accuracy'])"
      ],
      "execution_count": null,
      "outputs": []
    },
    {
      "cell_type": "code",
      "metadata": {
        "colab": {
          "base_uri": "https://localhost:8080/"
        },
        "id": "EgSAzi4RhgSU",
        "outputId": "3da1ae6c-d7a2-4353-a6cc-7ddbc747fc48"
      },
      "source": [
        "cnn.fit(X_train, y_train, epochs=10)\r\n"
      ],
      "execution_count": null,
      "outputs": [
        {
          "output_type": "stream",
          "text": [
            "Epoch 1/10\n",
            "1563/1563 [==============================] - 10s 3ms/step - loss: 1.6773 - accuracy: 0.3896\n",
            "Epoch 2/10\n",
            "1563/1563 [==============================] - 4s 3ms/step - loss: 1.0946 - accuracy: 0.6198\n",
            "Epoch 3/10\n",
            "1563/1563 [==============================] - 4s 3ms/step - loss: 0.9569 - accuracy: 0.6673\n",
            "Epoch 4/10\n",
            "1563/1563 [==============================] - 4s 3ms/step - loss: 0.8523 - accuracy: 0.7052\n",
            "Epoch 5/10\n",
            "1563/1563 [==============================] - 4s 3ms/step - loss: 0.7832 - accuracy: 0.7298\n",
            "Epoch 6/10\n",
            "1563/1563 [==============================] - 4s 3ms/step - loss: 0.7261 - accuracy: 0.7479\n",
            "Epoch 7/10\n",
            "1563/1563 [==============================] - 4s 3ms/step - loss: 0.6689 - accuracy: 0.7675\n",
            "Epoch 8/10\n",
            "1563/1563 [==============================] - 4s 3ms/step - loss: 0.6170 - accuracy: 0.7834\n",
            "Epoch 9/10\n",
            "1563/1563 [==============================] - 4s 3ms/step - loss: 0.5764 - accuracy: 0.8007\n",
            "Epoch 10/10\n",
            "1563/1563 [==============================] - 4s 3ms/step - loss: 0.5363 - accuracy: 0.8117\n"
          ],
          "name": "stdout"
        },
        {
          "output_type": "execute_result",
          "data": {
            "text/plain": [
              "<tensorflow.python.keras.callbacks.History at 0x7fe23224d9b0>"
            ]
          },
          "metadata": {
            "tags": []
          },
          "execution_count": 28
        }
      ]
    },
    {
      "cell_type": "code",
      "metadata": {
        "colab": {
          "base_uri": "https://localhost:8080/"
        },
        "id": "PCGCc0LNhite",
        "outputId": "4f581296-d52c-44f7-83a1-663f1ada9d23"
      },
      "source": [
        "cnn.evaluate(X_test,y_test)\r\n"
      ],
      "execution_count": null,
      "outputs": [
        {
          "output_type": "stream",
          "text": [
            "313/313 [==============================] - 1s 2ms/step - loss: 0.9021 - accuracy: 0.7050\n"
          ],
          "name": "stdout"
        },
        {
          "output_type": "execute_result",
          "data": {
            "text/plain": [
              "[0.9020751118659973, 0.7049999833106995]"
            ]
          },
          "metadata": {
            "tags": []
          },
          "execution_count": 29
        }
      ]
    },
    {
      "cell_type": "code",
      "metadata": {
        "colab": {
          "base_uri": "https://localhost:8080/"
        },
        "id": "P7oGTtOVh7oZ",
        "outputId": "2ebcd6e1-7be7-40f2-c699-640ad7c2edd4"
      },
      "source": [
        "\r\n",
        "y_pred = cnn.predict(X_test)\r\n",
        "y_pred[:5]"
      ],
      "execution_count": null,
      "outputs": [
        {
          "output_type": "execute_result",
          "data": {
            "text/plain": [
              "array([[5.5510702e-04, 1.6491695e-05, 7.6610647e-04, 7.7585012e-01,\n",
              "        5.0646882e-04, 2.1313457e-01, 8.9496998e-03, 1.3388837e-04,\n",
              "        7.7764264e-05, 9.8440350e-06],\n",
              "       [6.3896819e-04, 2.2432055e-02, 2.3272283e-07, 3.4384909e-06,\n",
              "        3.7677535e-07, 4.6956977e-08, 9.6400783e-11, 1.2362168e-08,\n",
              "        9.6976656e-01, 7.1582175e-03],\n",
              "       [5.9729598e-02, 2.3916726e-01, 2.0456393e-03, 2.1402750e-02,\n",
              "        2.7646314e-04, 1.2374719e-03, 4.7794156e-04, 2.4433506e-03,\n",
              "        6.5391946e-01, 1.9300055e-02],\n",
              "       [9.5671064e-01, 7.0349786e-05, 2.5900314e-03, 2.1510024e-03,\n",
              "        2.3018913e-02, 2.4514511e-05, 6.2233565e-05, 3.3218719e-05,\n",
              "        1.5125757e-02, 2.1338498e-04],\n",
              "       [2.2210227e-06, 2.9298002e-07, 1.8897496e-02, 1.4748699e-02,\n",
              "        8.0098517e-02, 1.6527573e-04, 8.8608438e-01, 1.5020181e-06,\n",
              "        1.5647679e-06, 6.2220295e-08]], dtype=float32)"
            ]
          },
          "metadata": {
            "tags": []
          },
          "execution_count": 30
        }
      ]
    },
    {
      "cell_type": "code",
      "metadata": {
        "colab": {
          "base_uri": "https://localhost:8080/"
        },
        "id": "G9gTirgridac",
        "outputId": "af0d3a1b-bc4b-405a-8912-83bcf8efe78d"
      },
      "source": [
        "\r\n",
        "y_classes = [np.argmax(element) for element in y_pred]\r\n",
        "y_classes[:5]"
      ],
      "execution_count": null,
      "outputs": [
        {
          "output_type": "execute_result",
          "data": {
            "text/plain": [
              "[3, 8, 8, 0, 6]"
            ]
          },
          "metadata": {
            "tags": []
          },
          "execution_count": 31
        }
      ]
    },
    {
      "cell_type": "code",
      "metadata": {
        "colab": {
          "base_uri": "https://localhost:8080/"
        },
        "id": "mjIjcz5Wip_i",
        "outputId": "b71b3244-e9ea-4e99-be3a-be9067bd38d5"
      },
      "source": [
        "y_test[:5]\r\n"
      ],
      "execution_count": null,
      "outputs": [
        {
          "output_type": "execute_result",
          "data": {
            "text/plain": [
              "array([3, 8, 8, 0, 6], dtype=uint8)"
            ]
          },
          "metadata": {
            "tags": []
          },
          "execution_count": 32
        }
      ]
    },
    {
      "cell_type": "code",
      "metadata": {
        "colab": {
          "base_uri": "https://localhost:8080/",
          "height": 173
        },
        "id": "3Qxt3Aj4i3NT",
        "outputId": "b3154cf3-c915-4ca8-bd3b-beb9b4dca261"
      },
      "source": [
        "plot_sample(X_test, y_test,5)\r\n"
      ],
      "execution_count": null,
      "outputs": [
        {
          "output_type": "display_data",
          "data": {
            "image/png": "[encoded data removed]",
            "text/plain": [
              "<Figure size 720x144 with 1 Axes>"
            ]
          },
          "metadata": {
            "tags": [],
            "needs_background": "light"
          }
        }
      ]
    },
    {
      "cell_type": "code",
      "metadata": {
        "colab": {
          "base_uri": "https://localhost:8080/",
          "height": 173
        },
        "id": "pZ_yNsmNjAT4",
        "outputId": "cdec60f7-5fc6-47f6-efac-a46a8a292c72"
      },
      "source": [
        "plot_sample(X_test, y_test,3)\r\n"
      ],
      "execution_count": null,
      "outputs": [
        {
          "output_type": "display_data",
          "data": {
            "image/png": "[encoded data removed]",
            "text/plain": [
              "<Figure size 720x144 with 1 Axes>"
            ]
          },
          "metadata": {
            "tags": [],
            "needs_background": "light"
          }
        }
      ]
    },
    {
      "cell_type": "code",
      "metadata": {
        "colab": {
          "base_uri": "https://localhost:8080/",
          "height": 35
        },
        "id": "2M9ly6yUjB8H",
        "outputId": "83452d6d-0558-49f3-8f5e-b886d73214ef"
      },
      "source": [
        "classes[y_classes[3]]"
      ],
      "execution_count": null,
      "outputs": [
        {
          "output_type": "execute_result",
          "data": {
            "application/vnd.google.colaboratory.intrinsic+json": {
              "type": "string"
            },
            "text/plain": [
              "'airplane'"
            ]
          },
          "metadata": {
            "tags": []
          },
          "execution_count": 36
        }
      ]
    },
    {
      "cell_type": "code",
      "metadata": {
        "id": "RXjbUY9ujN1W"
      },
      "source": [
        ""
      ],
      "execution_count": null,
      "outputs": []
    },
    {
      "cell_type": "code",
      "metadata": {
        "id": "yucJC6R8kFAA"
      },
      "source": [
        ""
      ],
      "execution_count": null,
      "outputs": []
    },
    {
      "cell_type": "code",
      "metadata": {
        "id": "_jYyI83PkHKH"
      },
      "source": [
        ""
      ],
      "execution_count": null,
      "outputs": []
    }
  ]
}